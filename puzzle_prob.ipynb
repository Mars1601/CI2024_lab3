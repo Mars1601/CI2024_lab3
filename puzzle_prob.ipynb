{
 "cells": [
  {
   "cell_type": "markdown",
   "metadata": {},
   "source": [
    "# SOLUTION OF PUZZLE'S PROBLEM"
   ]
  },
  {
   "cell_type": "code",
   "execution_count": null,
   "metadata": {},
   "outputs": [],
   "source": [
    "from collections import namedtuple\n",
    "from random import shuffle\n",
    "from queue import PriorityQueue  # PriorityQueue per la coda\n",
    "import numpy as np\n",
    "from tqdm.auto import tqdm"
   ]
  },
  {
   "cell_type": "code",
   "execution_count": null,
   "metadata": {},
   "outputs": [],
   "source": [
    "PUZZLE_DIM = 4\n",
    "action = namedtuple('Action', ['pos1', 'pos2']) # namedtuple per le azioni\n",
    "goal_state = tuple(i for i in range(1, PUZZLE_DIM**2)) + (0,) # goal state"
   ]
  },
  {
   "cell_type": "markdown",
   "metadata": {},
   "source": [
    "The code solves the sliding puzzle using the A* algorithm. \n",
    "\n",
    "1. Initialize a random puzzle\n",
    "\n",
    "2. verify that it is solvable\n",
    "\n",
    "3. explore possible states using the Manhattan distance as a heuristic. \n",
    "\n",
    "A* expands the states with the lowest cost until the solution is found, which consists of a sequence of moves to correctly arrange the pieces of the puzzle. If the solution is found, print the necessary moves."
   ]
  },
  {
   "cell_type": "code",
   "execution_count": null,
   "metadata": {},
   "outputs": [],
   "source": [
    "# Trova le azioni disponibili (spostamenti possibili)\n",
    "def available_actions(state: tuple) -> list:\n",
    "    state_2d = np.array(state).reshape(PUZZLE_DIM, PUZZLE_DIM)\n",
    "    x, y = np.where(state_2d == 0)  # Trova il vuoto\n",
    "    x, y = int(x), int(y)\n",
    "    actions = []\n",
    "    if x > 0: actions.append(action((x, y), (x - 1, y)))  # Su\n",
    "    if x < PUZZLE_DIM - 1: actions.append(action((x, y), (x + 1, y)))  # Giù\n",
    "    if y > 0: actions.append(action((x, y), (x, y - 1)))  # Sinistra\n",
    "    if y < PUZZLE_DIM - 1: actions.append(action((x, y), (x, y + 1)))  # Destra\n",
    "    return actions\n",
    "\n",
    "# Esegue un'azione (scambia due posizioni nel puzzle)\n",
    "def do_action(state: tuple, action: 'Action') -> tuple:\n",
    "    state_2d = np.array(state).reshape(PUZZLE_DIM, PUZZLE_DIM)\n",
    "    x1, y1 = action.pos1\n",
    "    x2, y2 = action.pos2\n",
    "    state_2d[x1, y1], state_2d[x2, y2] = state_2d[x2, y2], state_2d[x1, y1]\n",
    "    return tuple(state_2d.flatten())\n",
    "\n",
    "# Calcola la distanza Manhattan (euristica)\n",
    "def manhattan_distance(state: tuple) -> int:\n",
    "    distance = 0\n",
    "    state_2d = np.array(state).reshape(PUZZLE_DIM, PUZZLE_DIM)\n",
    "    for i in range(PUZZLE_DIM):\n",
    "        for j in range(PUZZLE_DIM):\n",
    "            value = state_2d[i, j]\n",
    "            if value != 0:  # Ignora il vuoto\n",
    "                goal_x, goal_y = divmod(value - 1, PUZZLE_DIM)\n",
    "                distance += abs(i - goal_x) + abs(j - goal_y)\n",
    "    return distance\n",
    "\n",
    "# Algoritmo A* per risolvere il puzzle\n",
    "def a_star_search(start_state: tuple) -> list:\n",
    "    pq = PriorityQueue()\n",
    "    pq.put((manhattan_distance(start_state), 0, start_state, []))\n",
    "    visited = set()\n",
    "    visited.add(start_state)\n",
    "    while not pq.empty():\n",
    "        heuristic, cost, state, path = pq.get()\n",
    "        if state == goal_state:\n",
    "            return path, state\n",
    "        for act in available_actions(state):\n",
    "            new_state = do_action(state, act)\n",
    "            if new_state not in visited:\n",
    "                visited.add(new_state)\n",
    "                new_cost = cost + 1\n",
    "                pq.put((new_cost + manhattan_distance(new_state), new_cost, new_state, path + [act]))\n",
    "    return [], start_state\n",
    "\n",
    "# Controlla se lo stato è risolvibile\n",
    "def is_solvable(state: tuple) -> bool:\n",
    "    state = [x for x in state if x != 0]  # Ignora il vuoto\n",
    "    inversions = sum(1 for i in range(len(state)) for j in range(i + 1, len(state)) if state[i] > state[j])\n",
    "    return inversions % 2 == 0\n",
    "\n",
    "# Randomizza il puzzle e garantisce che sia risolvibile\n",
    "def randomize_puzzle() -> tuple:\n",
    "    state = tuple(i for i in range(1, PUZZLE_DIM**2)) + (0,)\n",
    "    state = list(state)\n",
    "    shuffle(state)\n",
    "    while not is_solvable(tuple(state)):\n",
    "        shuffle(state)\n",
    "    return tuple(state)\n",
    "\n",
    "# Main\n",
    "if __name__ == \"__main__\":\n",
    "    state = randomize_puzzle()\n",
    "    print(\"Randomized Puzzle State:\")\n",
    "    print(np.array(state).reshape(PUZZLE_DIM, PUZZLE_DIM))\n",
    "    solution, final_state = a_star_search(state)\n",
    "    if solution:\n",
    "        print(f\"Solution found in {len(solution)} moves!\")\n",
    "        for step, act in enumerate(solution, start=1):\n",
    "            print(f\"Step {step}: Move {act.pos1} -> {act.pos2}\")\n",
    "    else:\n",
    "        print(\"No solution found.\")\n",
    "    print(\"Final State:\")\n",
    "    print(np.array(final_state).reshape(PUZZLE_DIM, PUZZLE_DIM))\n",
    "\n"
   ]
  }
 ],
 "metadata": {
  "kernelspec": {
   "display_name": "CI2024",
   "language": "python",
   "name": "python3"
  },
  "language_info": {
   "codemirror_mode": {
    "name": "ipython",
    "version": 3
   },
   "file_extension": ".py",
   "mimetype": "text/x-python",
   "name": "python",
   "nbconvert_exporter": "python",
   "pygments_lexer": "ipython3",
   "version": "3.12.2"
  }
 },
 "nbformat": 4,
 "nbformat_minor": 2
}
